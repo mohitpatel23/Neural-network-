{
 "cells": [
  {
   "cell_type": "markdown",
   "metadata": {},
   "source": [
    "## Q5"
   ]
  },
  {
   "cell_type": "code",
   "execution_count": 122,
   "metadata": {},
   "outputs": [],
   "source": [
    "#reading training data from the file\n",
    "from numpy import genfromtxt\n",
    "my_data = genfromtxt('Digits/ZipDigits.train')"
   ]
  },
  {
   "cell_type": "code",
   "execution_count": 123,
   "metadata": {},
   "outputs": [],
   "source": [
    "#renaming label '1' as '-1' and '5' as '1'\n",
    "arr=[]\n",
    "labels=[]\n",
    "for row in my_data:\n",
    "    \n",
    "    if(row[0]-1==0):\n",
    "        arr.append(row)\n",
    "        arr[-1][0]=-1\n",
    "        labels.append(-1)\n",
    "    elif(row[0]-5==0):\n",
    "        arr.append(row)\n",
    "        arr[-1][0]=1\n",
    "        labels.append(1)        "
   ]
  },
  {
   "cell_type": "code",
   "execution_count": 124,
   "metadata": {},
   "outputs": [],
   "source": [
    "#calculating intensity and symmetry of each image\n",
    "intensity=[]\n",
    "symmetry=[]\n",
    "for row in arr:\n",
    "    whites=0\n",
    "    value_sym=0\n",
    "    a=17\n",
    "    for x in range(1,257):\n",
    "        if(row[x]==-1):\n",
    "            whites+=1\n",
    "    \n",
    "    for y in range(1,257,16):\n",
    "        for z in range(y,y+8):\n",
    "            value_sym+=(row[z]-row[a-z])\n",
    "        a+=16\n",
    "    \n",
    "    intensity.append((whites)/256)\n",
    "    symmetry.append(value_sym)"
   ]
  },
  {
   "cell_type": "code",
   "execution_count": 125,
   "metadata": {},
   "outputs": [],
   "source": [
    "#reading testing data from the file\n",
    "test_data = genfromtxt('Digits/ZipDigits.test')\n",
    "#renaming label '1' as '-1' and '5' as '1' for testing set\n",
    "test_arr=[]\n",
    "test_labels=[]\n",
    "for row in test_data:\n",
    "    \n",
    "    if(row[0]-1==0):\n",
    "        test_arr.append(row)\n",
    "        test_arr[-1][0]=-1\n",
    "        test_labels.append(-1)\n",
    "    elif(row[0]-5==0):\n",
    "        test_arr.append(row)\n",
    "        test_arr[-1][0]=1\n",
    "        test_labels.append(1)    \n",
    "        \n",
    "#calculating intensity and symmetry of each image for testing set\n",
    "test_intensity=[]\n",
    "test_symmetry=[]\n",
    "for test_row in test_arr:\n",
    "    test_whites=0\n",
    "    test_value_sym=0\n",
    "    test_a=17\n",
    "    for x in range(1,257):\n",
    "        if(test_row[x]==-1):\n",
    "            test_whites+=1\n",
    "    \n",
    "    for y in range(1,257,16):\n",
    "        for z in range(y,y+8):\n",
    "            \n",
    "            test_value_sym+=(test_row[z]-test_row[test_a-z])\n",
    "        \n",
    "        test_a+=16\n",
    "    \n",
    "    test_intensity.append((test_whites)/256)\n",
    "    test_symmetry.append(test_value_sym)"
   ]
  },
  {
   "cell_type": "code",
   "execution_count": 126,
   "metadata": {},
   "outputs": [],
   "source": [
    "import numpy as np\n",
    "X=np.array([np.ones(len(intensity)), np.asarray(intensity), np.asarray(symmetry)])"
   ]
  },
  {
   "cell_type": "code",
   "execution_count": 127,
   "metadata": {},
   "outputs": [],
   "source": [
    "y=np.asarray(labels)\n",
    "y=y.reshape(1,len(labels))"
   ]
  },
  {
   "cell_type": "code",
   "execution_count": 128,
   "metadata": {},
   "outputs": [],
   "source": [
    "test_X=np.array([np.ones(len(test_intensity)), np.asarray(test_intensity), np.asarray(test_symmetry)])\n",
    "test_y=np.asarray(test_labels)\n",
    "test_y=test_y.reshape(1,len(test_labels))"
   ]
  },
  {
   "cell_type": "code",
   "execution_count": 129,
   "metadata": {},
   "outputs": [],
   "source": [
    "#no of neurons in hidden layer(excluding bias)\n",
    "m = 10"
   ]
  },
  {
   "cell_type": "code",
   "execution_count": 130,
   "metadata": {},
   "outputs": [
    {
     "data": {
      "text/plain": [
       "array([[0.1, 0.1, 0.1, 0.1, 0.1, 0.1, 0.1, 0.1, 0.1, 0.1],\n",
       "       [0.1, 0.1, 0.1, 0.1, 0.1, 0.1, 0.1, 0.1, 0.1, 0.1],\n",
       "       [0.1, 0.1, 0.1, 0.1, 0.1, 0.1, 0.1, 0.1, 0.1, 0.1]])"
      ]
     },
     "execution_count": 130,
     "metadata": {},
     "output_type": "execute_result"
    }
   ],
   "source": [
    "#initializing weights\n",
    "w1 = np.array([[0.1]*m]*3)\n",
    "w1"
   ]
  },
  {
   "cell_type": "code",
   "execution_count": 131,
   "metadata": {},
   "outputs": [
    {
     "data": {
      "text/plain": [
       "array([[0.1],\n",
       "       [0.1],\n",
       "       [0.1],\n",
       "       [0.1],\n",
       "       [0.1],\n",
       "       [0.1],\n",
       "       [0.1],\n",
       "       [0.1],\n",
       "       [0.1],\n",
       "       [0.1],\n",
       "       [0.1]])"
      ]
     },
     "execution_count": 131,
     "metadata": {},
     "output_type": "execute_result"
    }
   ],
   "source": [
    "#initializing weights\n",
    "w2 = np.array([0.1]*(m+1))\n",
    "w2=w2.reshape((m+1),1)\n",
    "w2"
   ]
  },
  {
   "cell_type": "code",
   "execution_count": 132,
   "metadata": {},
   "outputs": [],
   "source": [
    "def forward(X,y,w1,w2,m):\n",
    "    signal_layer1 = (w1.T).dot(X)\n",
    "    lay=(m+1,y.size)\n",
    "    output_layer1 = np.empty(lay)\n",
    "    for i in range(y.size):\n",
    "        output_layer1[0][i]=1\n",
    "    for j in range(m):\n",
    "        output_layer1[j+1]=np.tanh(signal_layer1[j])\n",
    "    final_signal = (w2.T).dot(output_layer1)\n",
    "    final_output = np.tanh(final_signal)\n",
    "    return final_output,output_layer1,signal_layer1"
   ]
  },
  {
   "cell_type": "code",
   "execution_count": 133,
   "metadata": {},
   "outputs": [],
   "source": [
    "def backward(X,y,final_output,w1,w2,output_layer1,signal_layer1):\n",
    "    delta2 = 2*(y-final_output)*(1-(final_output*final_output))\n",
    "    g=w2.dot(delta2)\n",
    "    delta1= (1-(np.tanh(signal_layer1)*np.tanh(signal_layer1)))*(g[1:])\n",
    "    d_w1=X.dot(delta1.T)\n",
    "    d_w2=output_layer1.dot(delta2.T)\n",
    "    return d_w1,d_w2"
   ]
  },
  {
   "cell_type": "markdown",
   "metadata": {},
   "source": [
    "## 5.1 Vanilla Gradient Descent"
   ]
  },
  {
   "cell_type": "code",
   "execution_count": 134,
   "metadata": {},
   "outputs": [],
   "source": [
    "#updating the weights using the gradients computed from 'backward' method and a learning rate of 0.01 \n",
    "iterations=0\n",
    "iters_vgd=[]\n",
    "ein_vgd=[]\n",
    "while(iterations<2000000):\n",
    "    final_output,output_layer1,signal_layer1=forward(X,y,w1,w2,m)\n",
    "    d_w1,d_w2=backward(X,y,final_output,w1,w2,output_layer1,signal_layer1)\n",
    "    w1+=0.01*d_w1\n",
    "    w2+=0.01*d_w2\n",
    "    iterations+=1\n",
    "    h=np.sign(final_output)\n",
    "    error=0\n",
    "    for i in range(y.size):\n",
    "        if(y[0][i]-h[0][i]!=0):\n",
    "            error+=1\n",
    "    iters_vgd.append(iterations)\n",
    "    ein_vgd.append(error/y.size)"
   ]
  },
  {
   "cell_type": "code",
   "execution_count": 135,
   "metadata": {},
   "outputs": [],
   "source": [
    "#computing the output after learning on test set\n",
    "signal_layer1 = (w1.T).dot(test_X)\n",
    "lay=(m+1,test_y.size)\n",
    "output_layer1 = np.empty(lay)\n",
    "for i in range(test_y.size):\n",
    "    output_layer1[0][i]=1\n",
    "for j in range(m):\n",
    "    output_layer1[j+1]=np.tanh(signal_layer1[j])\n",
    "final_signal = (w2.T).dot(output_layer1)\n",
    "final_output = np.tanh(final_signal)\n",
    "h=np.sign(final_output)\n",
    "test_error=0\n",
    "for i in range(test_y.size):\n",
    "    if(test_y[0][i]-h[0][i]!=0):\n",
    "        test_error+=1\n",
    "test_error_vgd=test_error/test_y.size"
   ]
  },
  {
   "cell_type": "markdown",
   "metadata": {},
   "source": [
    "## 5.2 Stochastic Gradient Descent"
   ]
  },
  {
   "cell_type": "code",
   "execution_count": 136,
   "metadata": {},
   "outputs": [],
   "source": [
    "#initializing weights\n",
    "w1 = np.array([[0.1]*m]*3)\n",
    "w2 = np.array([0.1]*(m+1))\n",
    "w2=w2.reshape((m+1),1)"
   ]
  },
  {
   "cell_type": "code",
   "execution_count": 137,
   "metadata": {},
   "outputs": [],
   "source": [
    "#updating the weights using the gradients computed from 'backward' method and a learning rate of 0.01 \n",
    "iterations=0\n",
    "iters_sgd=[]\n",
    "ein_sgd=[]\n",
    "lay=(3,1)\n",
    "temp=np.empty(lay)\n",
    "while(iterations<2000000): \n",
    "    i=np.random.randint(0, y.size-1) \n",
    "    temp[0]=X[0][i]\n",
    "    temp[1]=X[1][i]\n",
    "    temp[2]=X[2][i]\n",
    "    temp_y=y[0][i]\n",
    "    temp_y=temp_y.reshape(1,1)\n",
    "    final_output,output_layer1,signal_layer1=forward(temp,temp_y,w1,w2,m)\n",
    "    d_w1,d_w2=backward(temp,temp_y,final_output,w1,w2,output_layer1,signal_layer1)\n",
    "    w1+=0.01*d_w1\n",
    "    w2+=0.01*d_w2\n",
    "    iterations+=1\n",
    "    #computing the output after learning\n",
    "    signal_layer1 = (w1.T).dot(X)\n",
    "    lay=(m+1,y.size)\n",
    "    output_layer1 = np.empty(lay)\n",
    "    for i in range(y.size):\n",
    "        output_layer1[0][i]=1\n",
    "    for j in range(m):\n",
    "        output_layer1[j+1]=np.tanh(signal_layer1[j])\n",
    "    final_signal = (w2.T).dot(output_layer1)\n",
    "    final_output = np.tanh(final_signal)\n",
    "    h=np.sign(final_output)\n",
    "    error=0\n",
    "    for i in range(y.size):\n",
    "        if(y[0][i]-h[0][i]!=0):\n",
    "            error+=1\n",
    "    iters_sgd.append(iterations)\n",
    "    ein_sgd.append(error/y.size)"
   ]
  },
  {
   "cell_type": "code",
   "execution_count": 138,
   "metadata": {},
   "outputs": [],
   "source": [
    "#computing the output after learning on test set\n",
    "signal_layer1 = (w1.T).dot(test_X)\n",
    "lay=(m+1,test_y.size)\n",
    "output_layer1 = np.empty(lay)\n",
    "for i in range(test_y.size):\n",
    "    output_layer1[0][i]=1\n",
    "for j in range(m):\n",
    "    output_layer1[j+1]=np.tanh(signal_layer1[j])\n",
    "final_signal = (w2.T).dot(output_layer1)\n",
    "final_output = np.tanh(final_signal)\n",
    "h=np.sign(final_output)\n",
    "test_error=0\n",
    "for i in range(test_y.size):\n",
    "    if(test_y[0][i]-h[0][i]!=0):\n",
    "        test_error+=1\n",
    "test_error_sgd=test_error/test_y.size"
   ]
  },
  {
   "cell_type": "markdown",
   "metadata": {},
   "source": [
    "## 5.3 Mini-batch Gradient Descent"
   ]
  },
  {
   "cell_type": "code",
   "execution_count": 139,
   "metadata": {},
   "outputs": [],
   "source": [
    "#initializing weights\n",
    "w1 = np.array([[0.1]*m]*3)\n",
    "w2 = np.array([0.1]*(m+1))\n",
    "w2=w2.reshape((m+1),1)"
   ]
  },
  {
   "cell_type": "code",
   "execution_count": 141,
   "metadata": {},
   "outputs": [],
   "source": [
    "#updating the weights using the gradients computed from 'backward' method and a learning rate of 0.01 \n",
    "iterations=0\n",
    "iters_mbgd=[]\n",
    "ein_mbgd=[]\n",
    "while(iterations<2000000):\n",
    "    p=(3,32)\n",
    "    mbgd_X=np.empty(p)\n",
    "    mbgd_y=np.empty(32)\n",
    "    mbgd_y=mbgd_y.reshape(1,32)\n",
    "    for k in range(32):\n",
    "        index=np.random.randint(0, y.size-1) \n",
    "        mbgd_X[0][k]=X[0][index]\n",
    "        mbgd_X[1][k]=X[1][index]\n",
    "        mbgd_X[2][k]=X[2][index]\n",
    "        mbgd_y[0][k]=y[0][index]\n",
    "        \n",
    "    final_output,output_layer1,signal_layer1=forward(mbgd_X,mbgd_y,w1,w2,m)\n",
    "    d_w1,d_w2=backward(mbgd_X,mbgd_y,final_output,w1,w2,output_layer1,signal_layer1)\n",
    "    w1+=0.01*d_w1\n",
    "    w2+=0.01*d_w2\n",
    "    iterations+=1\n",
    "    #computing the output after learning\n",
    "    signal_layer1 = (w1.T).dot(X)\n",
    "    lay=(m+1,y.size)\n",
    "    output_layer1 = np.empty(lay)\n",
    "    for i in range(y.size):\n",
    "        output_layer1[0][i]=1\n",
    "    for j in range(m):\n",
    "        output_layer1[j+1]=np.tanh(signal_layer1[j])\n",
    "    final_signal = (w2.T).dot(output_layer1)\n",
    "    final_output = np.tanh(final_signal)\n",
    "    h=np.sign(final_output)\n",
    "    error=0\n",
    "    for i in range(y.size):\n",
    "        if(y[0][i]-h[0][i]!=0):\n",
    "            error+=1\n",
    "    iters_mbgd.append(iterations)\n",
    "    ein_mbgd.append(error/y.size)"
   ]
  },
  {
   "cell_type": "code",
   "execution_count": 142,
   "metadata": {},
   "outputs": [],
   "source": [
    "#computing the output after learning on test set\n",
    "signal_layer1 = (w1.T).dot(test_X)\n",
    "lay=(m+1,test_y.size)\n",
    "output_layer1 = np.empty(lay)\n",
    "for i in range(test_y.size):\n",
    "    output_layer1[0][i]=1\n",
    "for j in range(m):\n",
    "    output_layer1[j+1]=np.tanh(signal_layer1[j])\n",
    "final_signal = (w2.T).dot(output_layer1)\n",
    "final_output = np.tanh(final_signal)\n",
    "h=np.sign(final_output)\n",
    "test_error=0\n",
    "for i in range(test_y.size):\n",
    "    if(test_y[0][i]-h[0][i]!=0):\n",
    "        test_error+=1\n",
    "test_error_mbgd=test_error/test_y.size"
   ]
  },
  {
   "cell_type": "markdown",
   "metadata": {},
   "source": [
    "## 5.4"
   ]
  },
  {
   "cell_type": "code",
   "execution_count": 167,
   "metadata": {},
   "outputs": [
    {
     "data": {
      "image/png": "[encoded data removed]",
      "text/plain": [
       "<Figure size 432x288 with 1 Axes>"
      ]
     },
     "metadata": {
      "needs_background": "light"
     },
     "output_type": "display_data"
    }
   ],
   "source": [
    "import matplotlib.pyplot as plt\n",
    "vgd_iters=[]\n",
    "vgd_ein=[]\n",
    "for i in range(0,len(iters_vgd),1000):\n",
    "    vgd_iters.append(iters_vgd[i])\n",
    "    vgd_ein.append(ein_vgd[i])\n",
    "plt.plot(vgd_iters, vgd_ein, color='green')\n",
    "plt.title('Ein vs iterations for Vanilla Gradient Descent')\n",
    "plt.xlabel('Iterations', color='#1C2833')\n",
    "plt.ylabel('Ein', color='#1C2833')\n",
    "plt.show()"
   ]
  },
  {
   "cell_type": "code",
   "execution_count": 166,
   "metadata": {},
   "outputs": [
    {
     "data": {
      "image/png": "[encoded data removed]",
      "text/plain": [
       "<Figure size 432x288 with 1 Axes>"
      ]
     },
     "metadata": {
      "needs_background": "light"
     },
     "output_type": "display_data"
    }
   ],
   "source": [
    "sgd_iters=[]\n",
    "sgd_ein=[]\n",
    "for i in range(0,len(iters_sgd),1000):\n",
    "    sgd_iters.append(iters_sgd[i])\n",
    "    sgd_ein.append(ein_sgd[i])\n",
    "plt.plot(sgd_iters, sgd_ein, color='green')\n",
    "plt.title('Ein vs iterations for Stochastic Gradient Descent')\n",
    "plt.xlabel('Iterations', color='#1C2833')\n",
    "plt.ylabel('Ein', color='#1C2833')\n",
    "plt.show()"
   ]
  },
  {
   "cell_type": "code",
   "execution_count": 169,
   "metadata": {},
   "outputs": [
    {
     "data": {
      "image/png": "[encoded data removed]",
      "text/plain": [
       "<Figure size 432x288 with 1 Axes>"
      ]
     },
     "metadata": {
      "needs_background": "light"
     },
     "output_type": "display_data"
    }
   ],
   "source": [
    "mbgd_iters=[]\n",
    "mbgd_ein=[]\n",
    "for i in range(0,len(iters_mbgd),1000):\n",
    "    mbgd_iters.append(iters_mbgd[i])\n",
    "    mbgd_ein.append(ein_mbgd[i])\n",
    "plt.plot(mbgd_iters, mbgd_ein, color='green')\n",
    "plt.title('Ein vs iterations for Mini-batch Gradient Descent')\n",
    "plt.xlabel('Iterations', color='#1C2833')\n",
    "plt.ylabel('Ein', color='#1C2833')\n",
    "plt.show()"
   ]
  },
  {
   "cell_type": "markdown",
   "metadata": {},
   "source": [
    "## 5.5"
   ]
  },
  {
   "cell_type": "code",
   "execution_count": 170,
   "metadata": {},
   "outputs": [
    {
     "name": "stdout",
     "output_type": "stream",
     "text": [
      "Test error with weights computed using Vanilla Gradient Descent after 2000000 iterations:  0.7735849056603774\n",
      "Test error with weights computed using Stochastic Gradient Descent after 2000000 iterations:  0.20047169811320756\n",
      "Test error with weights computed using Mini-batch Gradient Descent after 2000000 iterations:  0.7688679245283019\n"
     ]
    }
   ],
   "source": [
    "print(\"Test error with weights computed using Vanilla Gradient Descent after 2000000 iterations: \", test_error_vgd)\n",
    "print(\"Test error with weights computed using Stochastic Gradient Descent after 2000000 iterations: \", test_error_sgd)\n",
    "print(\"Test error with weights computed using Mini-batch Gradient Descent after 2000000 iterations: \", test_error_mbgd)"
   ]
  }
 ],
 "metadata": {
  "kernelspec": {
   "display_name": "Python 3",
   "language": "python",
   "name": "python3"
  },
  "language_info": {
   "codemirror_mode": {
    "name": "ipython",
    "version": 3
   },
   "file_extension": ".py",
   "mimetype": "text/x-python",
   "name": "python",
   "nbconvert_exporter": "python",
   "pygments_lexer": "ipython3",
   "version": "3.7.6"
  }
 },
 "nbformat": 4,
 "nbformat_minor": 4
}
