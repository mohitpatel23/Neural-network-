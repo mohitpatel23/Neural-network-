{
 "cells": [
  {
   "cell_type": "markdown",
   "metadata": {},
   "source": [
    "## Q3 & Q4"
   ]
  },
  {
   "cell_type": "markdown",
   "metadata": {},
   "source": [
    "Both Q3 and Q4 are solved in this one .ipynb file. "
   ]
  },
  {
   "cell_type": "code",
   "execution_count": 66,
   "metadata": {},
   "outputs": [],
   "source": [
    "#X is input and y represents class\n",
    "import numpy as np\n",
    "#                bias        x1         x2\n",
    "X = np.array([[1,1,1,1], [0,0,1,1], [0,1,0,1]])\n",
    "y= np.array([-1,1,1,1])"
   ]
  },
  {
   "cell_type": "code",
   "execution_count": 67,
   "metadata": {},
   "outputs": [
    {
     "data": {
      "text/plain": [
       "array([[1, 1, 1, 1],\n",
       "       [0, 0, 1, 1],\n",
       "       [0, 1, 0, 1]])"
      ]
     },
     "execution_count": 67,
     "metadata": {},
     "output_type": "execute_result"
    }
   ],
   "source": [
    "X"
   ]
  },
  {
   "cell_type": "code",
   "execution_count": 68,
   "metadata": {},
   "outputs": [
    {
     "data": {
      "text/plain": [
       "array([[-1,  1,  1,  1]])"
      ]
     },
     "execution_count": 68,
     "metadata": {},
     "output_type": "execute_result"
    }
   ],
   "source": [
    "y=y.reshape(1,4)\n",
    "y"
   ]
  },
  {
   "cell_type": "code",
   "execution_count": 69,
   "metadata": {},
   "outputs": [],
   "source": [
    "#no of neurons in hidden layer(excluding bias)\n",
    "m = 3"
   ]
  },
  {
   "cell_type": "code",
   "execution_count": 70,
   "metadata": {},
   "outputs": [
    {
     "data": {
      "text/plain": [
       "array([[0.1, 0.1, 0.1],\n",
       "       [0.1, 0.1, 0.1],\n",
       "       [0.1, 0.1, 0.1]])"
      ]
     },
     "execution_count": 70,
     "metadata": {},
     "output_type": "execute_result"
    }
   ],
   "source": [
    "#initializing weights\n",
    "w1 = np.array([[0.1]*m]*3)\n",
    "w1"
   ]
  },
  {
   "cell_type": "code",
   "execution_count": 92,
   "metadata": {},
   "outputs": [
    {
     "data": {
      "text/plain": [
       "array([[0.1],\n",
       "       [0.1],\n",
       "       [0.1],\n",
       "       [0.1]])"
      ]
     },
     "execution_count": 92,
     "metadata": {},
     "output_type": "execute_result"
    }
   ],
   "source": [
    "#initializing weights\n",
    "w2 = np.array([0.1]*(m+1))\n",
    "w2=w2.reshape((m+1),1)\n",
    "w2"
   ]
  },
  {
   "cell_type": "code",
   "execution_count": 72,
   "metadata": {},
   "outputs": [],
   "source": [
    "def forward(X,y,w1,w2,m):\n",
    "    signal_layer1 = (w1.T).dot(X)\n",
    "    lay=(m+1,y.size)\n",
    "    output_layer1 = np.empty(lay)\n",
    "    for i in range(y.size):\n",
    "        output_layer1[0][i]=1\n",
    "    for j in range(m):\n",
    "        output_layer1[j+1]=np.tanh(signal_layer1[j])\n",
    "    final_signal = (w2.T).dot(output_layer1)\n",
    "    final_output = np.tanh(final_signal)\n",
    "    return final_output,output_layer1,signal_layer1"
   ]
  },
  {
   "cell_type": "code",
   "execution_count": 73,
   "metadata": {},
   "outputs": [],
   "source": [
    "def backward(X,y,final_output,w1,w2,output_layer1,signal_layer1):\n",
    "    delta2 = 2*(y-final_output)*(1-(final_output*final_output))\n",
    "    g=w2.dot(delta2)\n",
    "    delta1= (1-(np.tanh(signal_layer1)*np.tanh(signal_layer1)))*(g[1:])\n",
    "    d_w1=X.dot(delta1.T)\n",
    "    d_w2=output_layer1.dot(delta2.T)\n",
    "    return d_w1,d_w2"
   ]
  },
  {
   "cell_type": "code",
   "execution_count": 74,
   "metadata": {},
   "outputs": [],
   "source": [
    "#updating the weights using the gradients computed from 'backward' method and a learning rate of 0.01 - Gradient descent\n",
    "epochs=0\n",
    "while(epochs<10000):\n",
    "    final_output,output_layer1,signal_layer1=forward(X,y,w1,w2,m)\n",
    "    d_w1,d_w2=backward(X,y,final_output,w1,w2,output_layer1,signal_layer1)\n",
    "    w1+=0.01*d_w1\n",
    "    w2+=0.01*d_w2\n",
    "    epochs+=1"
   ]
  },
  {
   "cell_type": "code",
   "execution_count": 75,
   "metadata": {},
   "outputs": [
    {
     "name": "stdout",
     "output_type": "stream",
     "text": [
      "[[-0.98277343  0.98826126  0.98826126  0.99975704]]\n"
     ]
    }
   ],
   "source": [
    "#computing the output after learning\n",
    "signal_layer1 = (w1.T).dot(X)\n",
    "lay=(m+1,y.size)\n",
    "output_layer1 = np.empty(lay)\n",
    "for i in range(y.size):\n",
    "    output_layer1[0][i]=1\n",
    "for j in range(m):\n",
    "    output_layer1[j+1]=np.tanh(signal_layer1[j])\n",
    "final_signal = (w2.T).dot(output_layer1)\n",
    "final_output = np.tanh(final_signal)\n",
    "print(final_output)"
   ]
  },
  {
   "cell_type": "code",
   "execution_count": 76,
   "metadata": {},
   "outputs": [
    {
     "data": {
      "text/plain": [
       "array([[-1,  1,  1,  1]])"
      ]
     },
     "execution_count": 76,
     "metadata": {},
     "output_type": "execute_result"
    }
   ],
   "source": [
    "#actual labels\n",
    "y"
   ]
  },
  {
   "cell_type": "code",
   "execution_count": 77,
   "metadata": {},
   "outputs": [
    {
     "data": {
      "text/plain": [
       "0.0001431024386477165"
      ]
     },
     "execution_count": 77,
     "metadata": {},
     "output_type": "execute_result"
    }
   ],
   "source": [
    "#calculating ein\n",
    "error=(y-final_output)*(y-final_output)\n",
    "ein=0\n",
    "for x in error[0]:\n",
    "    ein+=x\n",
    "ein=ein/y.size\n",
    "ein"
   ]
  },
  {
   "cell_type": "markdown",
   "metadata": {},
   "source": [
    "Below is Stochastic Gradient Descent"
   ]
  },
  {
   "cell_type": "code",
   "execution_count": 84,
   "metadata": {},
   "outputs": [
    {
     "data": {
      "text/plain": [
       "array([[0.1, 0.1, 0.1],\n",
       "       [0.1, 0.1, 0.1],\n",
       "       [0.1, 0.1, 0.1]])"
      ]
     },
     "execution_count": 84,
     "metadata": {},
     "output_type": "execute_result"
    }
   ],
   "source": [
    "#initializing weights\n",
    "w1 = np.array([[0.1]*m]*3)\n",
    "w1"
   ]
  },
  {
   "cell_type": "code",
   "execution_count": 87,
   "metadata": {},
   "outputs": [
    {
     "data": {
      "text/plain": [
       "array([[0.1],\n",
       "       [0.1],\n",
       "       [0.1],\n",
       "       [0.1]])"
      ]
     },
     "execution_count": 87,
     "metadata": {},
     "output_type": "execute_result"
    }
   ],
   "source": [
    "#initializing weights\n",
    "w2 = np.array([0.1]*(m+1))\n",
    "w2=w2.reshape(4,1)\n",
    "w2"
   ]
  },
  {
   "cell_type": "code",
   "execution_count": 88,
   "metadata": {},
   "outputs": [],
   "source": [
    "#updating the weights using the gradients computed from 'backward' method and a learning rate of 0.01 - Stochastic gradient descent\n",
    "epochs=0\n",
    "lay=(3,1)\n",
    "temp=np.empty(lay)\n",
    "while(epochs<10000): \n",
    "    i=np.random.randint(0, y.size-1) \n",
    "    temp[0]=X[0][i]\n",
    "    temp[1]=X[1][i]\n",
    "    temp[2]=X[2][i]\n",
    "    temp_y=y[0][i]\n",
    "    temp_y=temp_y.reshape(1,1)\n",
    "    final_output,output_layer1,signal_layer1=forward(temp,temp_y,w1,w2,m)\n",
    "    d_w1,d_w2=backward(temp,temp_y,final_output,w1,w2,output_layer1,signal_layer1)\n",
    "    w1+=0.01*d_w1\n",
    "    w2+=0.01*d_w2\n",
    "    epochs+=1"
   ]
  },
  {
   "cell_type": "code",
   "execution_count": 89,
   "metadata": {},
   "outputs": [
    {
     "name": "stdout",
     "output_type": "stream",
     "text": [
      "[[-0.96754216  0.97737346  0.97727463  0.99937586]]\n"
     ]
    }
   ],
   "source": [
    "#computing the output after learning\n",
    "signal_layer1 = (w1.T).dot(X)\n",
    "lay=(m+1,y.size)\n",
    "output_layer1 = np.empty(lay)\n",
    "for i in range(y.size):\n",
    "    output_layer1[0][i]=1\n",
    "for j in range(m):\n",
    "    output_layer1[j+1]=np.tanh(signal_layer1[j])\n",
    "final_signal = (w2.T).dot(output_layer1)\n",
    "final_output = np.tanh(final_signal)\n",
    "print(final_output)"
   ]
  },
  {
   "cell_type": "code",
   "execution_count": 90,
   "metadata": {},
   "outputs": [
    {
     "data": {
      "text/plain": [
       "array([[-1,  1,  1,  1]])"
      ]
     },
     "execution_count": 90,
     "metadata": {},
     "output_type": "execute_result"
    }
   ],
   "source": [
    "#actual labels\n",
    "y"
   ]
  },
  {
   "cell_type": "code",
   "execution_count": 91,
   "metadata": {},
   "outputs": [
    {
     "data": {
      "text/plain": [
       "0.0005205760287229035"
      ]
     },
     "execution_count": 91,
     "metadata": {},
     "output_type": "execute_result"
    }
   ],
   "source": [
    "#calculating ein\n",
    "error=(y-final_output)*(y-final_output)\n",
    "ein=0\n",
    "for x in error[0]:\n",
    "    ein+=x\n",
    "ein=ein/y.size\n",
    "ein"
   ]
  }
 ],
 "metadata": {
  "kernelspec": {
   "display_name": "Python 3",
   "language": "python",
   "name": "python3"
  },
  "language_info": {
   "codemirror_mode": {
    "name": "ipython",
    "version": 3
   },
   "file_extension": ".py",
   "mimetype": "text/x-python",
   "name": "python",
   "nbconvert_exporter": "python",
   "pygments_lexer": "ipython3",
   "version": "3.7.6"
  }
 },
 "nbformat": 4,
 "nbformat_minor": 4
}
